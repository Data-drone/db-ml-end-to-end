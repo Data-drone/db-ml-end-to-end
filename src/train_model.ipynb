{
 "cells": [
  {
   "cell_type": "markdown",
   "metadata": {},
   "source": [
    "# Model Training"
   ]
  },
  {
   "cell_type": "code",
   "execution_count": null,
   "metadata": {},
   "outputs": [],
   "source": [
    "dbutils.widgets.text(\"environment\", \"dev\")\n",
    "dbutils.widgets.text(\"experiment_name\", \"/Users/brian.law@databricks.com/[dev brian_law] dev-taxi-prediction-model\")"
   ]
  },
  {
   "cell_type": "code",
   "execution_count": null,
   "metadata": {},
   "outputs": [],
   "source": [
    "import mlflow\n",
    "from databricks import feature_store"
   ]
  },
  {
   "cell_type": "code",
   "execution_count": null,
   "metadata": {},
   "outputs": [],
   "source": [
    "curr_env = dbutils.widgets.get(\"environment\")\n",
    "curr_catalog = f'brian_ml_{curr_env}'\n",
    "\n",
    "mlflow.set_registry_uri(\"databricks-uc\")\n",
    "\n",
    "fs = feature_store.FeatureStoreClient()"
   ]
  },
  {
   "cell_type": "markdown",
   "metadata": {},
   "source": [
    "## Build Training Dataset"
   ]
  },
  {
   "cell_type": "code",
   "execution_count": null,
   "metadata": {},
   "outputs": [],
   "source": [
    "raw_data = spark.table(f'{curr_catalog}.warehouse.raw_data')\n",
    "\n",
    "pickup_features_table = f'{curr_catalog}.warehouse.trip_pickup_time_series_features'\n",
    "dropoff_features_table = f\"{curr_catalog}.warehouse.trip_dropoff_time_series_features\"\n",
    "\n",
    "pickup_feature_lookups = [\n",
    "    feature_store.FeatureLookup(\n",
    "        table_name=pickup_features_table,\n",
    "        feature_names=[\n",
    "            \"mean_fare_window_1h_pickup_zip\",\n",
    "            \"count_trips_window_1h_pickup_zip\",\n",
    "        ],\n",
    "        lookup_key=[\"pickup_zip\"],\n",
    "        timestamp_lookup_key=\"tpep_pickup_datetime\",\n",
    "    ),\n",
    "]\n",
    "\n",
    "dropoff_feature_lookups = [\n",
    "    feature_store.FeatureLookup(\n",
    "        table_name=dropoff_features_table,\n",
    "        feature_names=[\"count_trips_window_30m_dropoff_zip\", \"dropoff_is_weekend\"],\n",
    "        lookup_key=[\"dropoff_zip\"],\n",
    "        timestamp_lookup_key=\"tpep_dropoff_datetime\",\n",
    "    ),\n",
    "]\n"
   ]
  },
  {
   "cell_type": "code",
   "execution_count": null,
   "metadata": {},
   "outputs": [],
   "source": [
    "exclude_columns = [\"tpep_pickup_datetime\", \"tpep_dropoff_datetime\"]\n",
    "\n",
    "training_set = fs.create_training_set(\n",
    "    raw_data,\n",
    "    feature_lookups=pickup_feature_lookups + dropoff_feature_lookups,\n",
    "    label=\"fare_amount\",\n",
    "    exclude_columns=exclude_columns,\n",
    ")\n",
    "\n",
    "training_df = training_set.load_df()\n",
    "\n",
    "display(training_df)"
   ]
  },
  {
   "cell_type": "markdown",
   "metadata": {},
   "source": [
    "## Train Model"
   ]
  },
  {
   "cell_type": "code",
   "execution_count": null,
   "metadata": {},
   "outputs": [],
   "source": [
    "mlflow.set_experiment(dbutils.widgets.get(\"experiment_name\"))\n",
    "\n",
    "from sklearn.model_selection import train_test_split\n",
    "from mlflow.tracking import MlflowClient\n",
    "import lightgbm as lgb\n",
    "import mlflow.lightgbm\n",
    "from mlflow.models.signature import infer_signature\n",
    "\n",
    "features_and_label = training_df.columns\n"
   ]
  },
  {
   "cell_type": "code",
   "execution_count": null,
   "metadata": {},
   "outputs": [],
   "source": [
    "with mlflow.start_run():\n",
    "    data = training_df.toPandas()[features_and_label]\n",
    "\n",
    "    train, test = train_test_split(data, random_state=123)\n",
    "    X_train = train.drop([\"fare_amount\"], axis=1)\n",
    "    X_test = test.drop([\"fare_amount\"], axis=1)\n",
    "    y_train = train.fare_amount\n",
    "    y_test = test.fare_amount\n",
    "\n",
    "    mlflow.lightgbm.autolog()\n",
    "    train_lgb_dataset = lgb.Dataset(X_train, label=y_train.values)\n",
    "    test_lgb_dataset = lgb.Dataset(X_test, label=y_test.values)\n",
    "\n",
    "    param = {\"num_leaves\": 32, \"objective\": \"regression\", \"metric\": \"rmse\"}\n",
    "    num_rounds = 100\n",
    "\n",
    "    # Train a lightGBM model\n",
    "    model = lgb.train(param, train_lgb_dataset, num_rounds)\n",
    "\n",
    "    # Log the trained model with MLflow and package it with feature lookup information.\n",
    "    fs.log_model(\n",
    "        model,\n",
    "        artifact_path=\"model_packaged\",\n",
    "        flavor=mlflow.lightgbm,\n",
    "        training_set=training_set,\n",
    "        registered_model_name=f\"{curr_catalog}.warehouse.taxi_example_fare_time_series_packaged\",\n",
    "    )\n"
   ]
  }
 ],
 "metadata": {
  "language_info": {
   "name": "python"
  }
 },
 "nbformat": 4,
 "nbformat_minor": 2
}
