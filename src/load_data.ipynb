{
 "cells": [
  {
   "cell_type": "markdown",
   "metadata": {},
   "source": [
    "# Ingest Data\n",
    "\n",
    "This is to simulate data ingestion"
   ]
  },
  {
   "cell_type": "code",
   "execution_count": null,
   "metadata": {},
   "outputs": [],
   "source": [
    "dbutils.widgets.text(\"environment\", \"dev\")"
   ]
  },
  {
   "cell_type": "code",
   "execution_count": null,
   "metadata": {},
   "outputs": [],
   "source": [
    "from pyspark.sql import functions as F\n",
    "from datetime import datetime, timedelta\n",
    "\n",
    "curr_env = dbutils.widgets.get(\"environment\")\n",
    "curr_catalog = f'brian_ml_{curr_env}'"
   ]
  },
  {
   "cell_type": "code",
   "execution_count": null,
   "metadata": {
    "vscode": {
     "languageId": "plaintext"
    }
   },
   "outputs": [],
   "source": [
    "%sql\n",
    "USE CATALOG brian_ml_${environment};"
   ]
  },
  {
   "cell_type": "code",
   "execution_count": null,
   "metadata": {
    "vscode": {
     "languageId": "plaintext"
    }
   },
   "outputs": [],
   "source": [
    "loaded_data = spark.sql(f\"SELECT * FROM warehouse.raw_data\")\n",
    "\n",
    "max_date = loaded_data \\\n",
    "            .select('tpep_pickup_datetime') \\\n",
    "            .agg(\n",
    "                F.max(F.col('tpep_pickup_datetime')).alias('max_loaded')\n",
    "            )\n",
    "\n",
    "current_max_date = max_date.collect()[0].max_loaded\n",
    "\n",
    "next_date_cutoff = current_max_date + timedelta(days=2)\n",
    "next_date_midnight = next_date_cutoff.replace(hour=0,minute=0,second=0)\n",
    "\n",
    "print(f'current max date {current_max_date}')\n",
    "print(f'Next max date {next_date_midnight}')"
   ]
  },
  {
   "cell_type": "code",
   "execution_count": null,
   "metadata": {
    "vscode": {
     "languageId": "plaintext"
    }
   },
   "outputs": [],
   "source": [
    "raw_data = spark.read.format(\"delta\").load(\"/databricks-datasets/nyctaxi-with-zipcodes/subsampled\")\n",
    "display(raw_data)"
   ]
  },
  {
   "cell_type": "code",
   "execution_count": null,
   "metadata": {
    "vscode": {
     "languageId": "plaintext"
    }
   },
   "outputs": [],
   "source": [
    "# Data to ingest\n",
    "filtered_df = raw_data.filter(\n",
    "    (F.col('tpep_pickup_datetime') > current_max_date) & \n",
    "    (F.col('tpep_pickup_datetime') <= next_date_midnight)\n",
    ")\n",
    "\n",
    "row_count = filtered_df.count()\n",
    "\n",
    "print(f'collected {row_count} records')"
   ]
  },
  {
   "cell_type": "code",
   "execution_count": null,
   "metadata": {
    "vscode": {
     "languageId": "plaintext"
    }
   },
   "outputs": [],
   "source": [
    "if row_count >= 1:\n",
    "    filtered_df.write.mode('append').saveAsTable(f'{curr_catalog}.warehouse.raw_data')"
   ]
  }
 ],
 "metadata": {
  "language_info": {
   "name": "python"
  }
 },
 "nbformat": 4,
 "nbformat_minor": 2
}
